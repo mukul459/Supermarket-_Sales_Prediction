{
 "cells": [
  {
   "cell_type": "code",
   "execution_count": 1,
   "id": "17fe9caa",
   "metadata": {
    "_cell_guid": "b1076dfc-b9ad-4769-8c92-a6c4dae69d19",
    "_uuid": "8f2839f25d086af736a60e9eeb907d3b93b6e0e5",
    "execution": {
     "iopub.execute_input": "2022-07-31T10:55:05.270525Z",
     "iopub.status.busy": "2022-07-31T10:55:05.269813Z",
     "iopub.status.idle": "2022-07-31T10:55:05.291829Z",
     "shell.execute_reply": "2022-07-31T10:55:05.290654Z"
    },
    "papermill": {
     "duration": 0.039614,
     "end_time": "2022-07-31T10:55:05.294443",
     "exception": false,
     "start_time": "2022-07-31T10:55:05.254829",
     "status": "completed"
    },
    "tags": []
   },
   "outputs": [
    {
     "name": "stdout",
     "output_type": "stream",
     "text": [
      "/kaggle/input/supermarket-sales/supermarket_sales - Sheet1.csv\n"
     ]
    }
   ],
   "source": [
    "# This Python 3 environment comes with many helpful analytics libraries installed\n",
    "# It is defined by the kaggle/python Docker image: https://github.com/kaggle/docker-python\n",
    "# For example, here's several helpful packages to load\n",
    "\n",
    "import numpy as np # linear algebra\n",
    "import pandas as pd # data processing, CSV file I/O (e.g. pd.read_csv)\n",
    "\n",
    "# Input data files are available in the read-only \"../input/\" directory\n",
    "# For example, running this (by clicking run or pressing Shift+Enter) will list all files under the input directory\n",
    "\n",
    "import os\n",
    "for dirname, _, filenames in os.walk('/kaggle/input'):\n",
    "    for filename in filenames:\n",
    "        print(os.path.join(dirname, filename))\n",
    "\n",
    "# You can write up to 20GB to the current directory (/kaggle/working/) that gets preserved as output when you create a version using \"Save & Run All\" \n",
    "# You can also write temporary files to /kaggle/temp/, but they won't be saved outside of the current session"
   ]
  },
  {
   "cell_type": "code",
   "execution_count": 2,
   "id": "11936870",
   "metadata": {
    "execution": {
     "iopub.execute_input": "2022-07-31T10:55:05.320663Z",
     "iopub.status.busy": "2022-07-31T10:55:05.319728Z",
     "iopub.status.idle": "2022-07-31T10:55:06.549427Z",
     "shell.execute_reply": "2022-07-31T10:55:06.548438Z"
    },
    "papermill": {
     "duration": 1.245431,
     "end_time": "2022-07-31T10:55:06.552064",
     "exception": false,
     "start_time": "2022-07-31T10:55:05.306633",
     "status": "completed"
    },
    "tags": []
   },
   "outputs": [],
   "source": [
    "import pandas as pd\n",
    "import numpy as np\n",
    "import matplotlib.pyplot as plt\n",
    "import seaborn as sns"
   ]
  },
  {
   "cell_type": "code",
   "execution_count": 3,
   "id": "06e74e98",
   "metadata": {
    "execution": {
     "iopub.execute_input": "2022-07-31T10:55:06.578247Z",
     "iopub.status.busy": "2022-07-31T10:55:06.577089Z",
     "iopub.status.idle": "2022-07-31T10:55:06.601839Z",
     "shell.execute_reply": "2022-07-31T10:55:06.600679Z"
    },
    "papermill": {
     "duration": 0.040529,
     "end_time": "2022-07-31T10:55:06.604461",
     "exception": false,
     "start_time": "2022-07-31T10:55:06.563932",
     "status": "completed"
    },
    "tags": []
   },
   "outputs": [],
   "source": [
    "df = pd.read_csv(\"../input/supermarket-sales/supermarket_sales - Sheet1.csv\")"
   ]
  },
  {
   "cell_type": "code",
   "execution_count": 4,
   "id": "47498f1d",
   "metadata": {
    "execution": {
     "iopub.execute_input": "2022-07-31T10:55:06.631713Z",
     "iopub.status.busy": "2022-07-31T10:55:06.630764Z",
     "iopub.status.idle": "2022-07-31T10:55:06.662193Z",
     "shell.execute_reply": "2022-07-31T10:55:06.661064Z"
    },
    "papermill": {
     "duration": 0.046714,
     "end_time": "2022-07-31T10:55:06.664529",
     "exception": false,
     "start_time": "2022-07-31T10:55:06.617815",
     "status": "completed"
    },
    "tags": []
   },
   "outputs": [
    {
     "data": {
      "text/html": [
       "<div>\n",
       "<style scoped>\n",
       "    .dataframe tbody tr th:only-of-type {\n",
       "        vertical-align: middle;\n",
       "    }\n",
       "\n",
       "    .dataframe tbody tr th {\n",
       "        vertical-align: top;\n",
       "    }\n",
       "\n",
       "    .dataframe thead th {\n",
       "        text-align: right;\n",
       "    }\n",
       "</style>\n",
       "<table border=\"1\" class=\"dataframe\">\n",
       "  <thead>\n",
       "    <tr style=\"text-align: right;\">\n",
       "      <th></th>\n",
       "      <th>Invoice ID</th>\n",
       "      <th>Branch</th>\n",
       "      <th>City</th>\n",
       "      <th>Customer type</th>\n",
       "      <th>Gender</th>\n",
       "      <th>Product line</th>\n",
       "      <th>Unit price</th>\n",
       "      <th>Quantity</th>\n",
       "      <th>Tax 5%</th>\n",
       "      <th>Total</th>\n",
       "      <th>Date</th>\n",
       "      <th>Time</th>\n",
       "      <th>Payment</th>\n",
       "      <th>cogs</th>\n",
       "      <th>gross margin percentage</th>\n",
       "      <th>gross income</th>\n",
       "      <th>Rating</th>\n",
       "    </tr>\n",
       "  </thead>\n",
       "  <tbody>\n",
       "    <tr>\n",
       "      <th>0</th>\n",
       "      <td>750-67-8428</td>\n",
       "      <td>A</td>\n",
       "      <td>Yangon</td>\n",
       "      <td>Member</td>\n",
       "      <td>Female</td>\n",
       "      <td>Health and beauty</td>\n",
       "      <td>74.69</td>\n",
       "      <td>7</td>\n",
       "      <td>26.1415</td>\n",
       "      <td>548.9715</td>\n",
       "      <td>1/5/2019</td>\n",
       "      <td>13:08</td>\n",
       "      <td>Ewallet</td>\n",
       "      <td>522.83</td>\n",
       "      <td>4.761905</td>\n",
       "      <td>26.1415</td>\n",
       "      <td>9.1</td>\n",
       "    </tr>\n",
       "    <tr>\n",
       "      <th>1</th>\n",
       "      <td>226-31-3081</td>\n",
       "      <td>C</td>\n",
       "      <td>Naypyitaw</td>\n",
       "      <td>Normal</td>\n",
       "      <td>Female</td>\n",
       "      <td>Electronic accessories</td>\n",
       "      <td>15.28</td>\n",
       "      <td>5</td>\n",
       "      <td>3.8200</td>\n",
       "      <td>80.2200</td>\n",
       "      <td>3/8/2019</td>\n",
       "      <td>10:29</td>\n",
       "      <td>Cash</td>\n",
       "      <td>76.40</td>\n",
       "      <td>4.761905</td>\n",
       "      <td>3.8200</td>\n",
       "      <td>9.6</td>\n",
       "    </tr>\n",
       "    <tr>\n",
       "      <th>2</th>\n",
       "      <td>631-41-3108</td>\n",
       "      <td>A</td>\n",
       "      <td>Yangon</td>\n",
       "      <td>Normal</td>\n",
       "      <td>Male</td>\n",
       "      <td>Home and lifestyle</td>\n",
       "      <td>46.33</td>\n",
       "      <td>7</td>\n",
       "      <td>16.2155</td>\n",
       "      <td>340.5255</td>\n",
       "      <td>3/3/2019</td>\n",
       "      <td>13:23</td>\n",
       "      <td>Credit card</td>\n",
       "      <td>324.31</td>\n",
       "      <td>4.761905</td>\n",
       "      <td>16.2155</td>\n",
       "      <td>7.4</td>\n",
       "    </tr>\n",
       "    <tr>\n",
       "      <th>3</th>\n",
       "      <td>123-19-1176</td>\n",
       "      <td>A</td>\n",
       "      <td>Yangon</td>\n",
       "      <td>Member</td>\n",
       "      <td>Male</td>\n",
       "      <td>Health and beauty</td>\n",
       "      <td>58.22</td>\n",
       "      <td>8</td>\n",
       "      <td>23.2880</td>\n",
       "      <td>489.0480</td>\n",
       "      <td>1/27/2019</td>\n",
       "      <td>20:33</td>\n",
       "      <td>Ewallet</td>\n",
       "      <td>465.76</td>\n",
       "      <td>4.761905</td>\n",
       "      <td>23.2880</td>\n",
       "      <td>8.4</td>\n",
       "    </tr>\n",
       "    <tr>\n",
       "      <th>4</th>\n",
       "      <td>373-73-7910</td>\n",
       "      <td>A</td>\n",
       "      <td>Yangon</td>\n",
       "      <td>Normal</td>\n",
       "      <td>Male</td>\n",
       "      <td>Sports and travel</td>\n",
       "      <td>86.31</td>\n",
       "      <td>7</td>\n",
       "      <td>30.2085</td>\n",
       "      <td>634.3785</td>\n",
       "      <td>2/8/2019</td>\n",
       "      <td>10:37</td>\n",
       "      <td>Ewallet</td>\n",
       "      <td>604.17</td>\n",
       "      <td>4.761905</td>\n",
       "      <td>30.2085</td>\n",
       "      <td>5.3</td>\n",
       "    </tr>\n",
       "  </tbody>\n",
       "</table>\n",
       "</div>"
      ],
      "text/plain": [
       "    Invoice ID Branch       City Customer type  Gender  \\\n",
       "0  750-67-8428      A     Yangon        Member  Female   \n",
       "1  226-31-3081      C  Naypyitaw        Normal  Female   \n",
       "2  631-41-3108      A     Yangon        Normal    Male   \n",
       "3  123-19-1176      A     Yangon        Member    Male   \n",
       "4  373-73-7910      A     Yangon        Normal    Male   \n",
       "\n",
       "             Product line  Unit price  Quantity   Tax 5%     Total       Date  \\\n",
       "0       Health and beauty       74.69         7  26.1415  548.9715   1/5/2019   \n",
       "1  Electronic accessories       15.28         5   3.8200   80.2200   3/8/2019   \n",
       "2      Home and lifestyle       46.33         7  16.2155  340.5255   3/3/2019   \n",
       "3       Health and beauty       58.22         8  23.2880  489.0480  1/27/2019   \n",
       "4       Sports and travel       86.31         7  30.2085  634.3785   2/8/2019   \n",
       "\n",
       "    Time      Payment    cogs  gross margin percentage  gross income  Rating  \n",
       "0  13:08      Ewallet  522.83                 4.761905       26.1415     9.1  \n",
       "1  10:29         Cash   76.40                 4.761905        3.8200     9.6  \n",
       "2  13:23  Credit card  324.31                 4.761905       16.2155     7.4  \n",
       "3  20:33      Ewallet  465.76                 4.761905       23.2880     8.4  \n",
       "4  10:37      Ewallet  604.17                 4.761905       30.2085     5.3  "
      ]
     },
     "execution_count": 4,
     "metadata": {},
     "output_type": "execute_result"
    }
   ],
   "source": [
    "df.head(5)"
   ]
  },
  {
   "cell_type": "code",
   "execution_count": 5,
   "id": "446482f3",
   "metadata": {
    "execution": {
     "iopub.execute_input": "2022-07-31T10:55:06.692541Z",
     "iopub.status.busy": "2022-07-31T10:55:06.691253Z",
     "iopub.status.idle": "2022-07-31T10:55:06.763952Z",
     "shell.execute_reply": "2022-07-31T10:55:06.762725Z"
    },
    "papermill": {
     "duration": 0.089745,
     "end_time": "2022-07-31T10:55:06.766868",
     "exception": false,
     "start_time": "2022-07-31T10:55:06.677123",
     "status": "completed"
    },
    "tags": []
   },
   "outputs": [
    {
     "data": {
      "text/html": [
       "<div>\n",
       "<style scoped>\n",
       "    .dataframe tbody tr th:only-of-type {\n",
       "        vertical-align: middle;\n",
       "    }\n",
       "\n",
       "    .dataframe tbody tr th {\n",
       "        vertical-align: top;\n",
       "    }\n",
       "\n",
       "    .dataframe thead th {\n",
       "        text-align: right;\n",
       "    }\n",
       "</style>\n",
       "<table border=\"1\" class=\"dataframe\">\n",
       "  <thead>\n",
       "    <tr style=\"text-align: right;\">\n",
       "      <th></th>\n",
       "      <th>count</th>\n",
       "      <th>mean</th>\n",
       "      <th>std</th>\n",
       "      <th>min</th>\n",
       "      <th>25%</th>\n",
       "      <th>50%</th>\n",
       "      <th>75%</th>\n",
       "      <th>max</th>\n",
       "    </tr>\n",
       "  </thead>\n",
       "  <tbody>\n",
       "    <tr>\n",
       "      <th>Unit price</th>\n",
       "      <td>1000.0</td>\n",
       "      <td>55.672130</td>\n",
       "      <td>26.494628</td>\n",
       "      <td>10.080000</td>\n",
       "      <td>32.875000</td>\n",
       "      <td>55.230000</td>\n",
       "      <td>77.935000</td>\n",
       "      <td>99.960000</td>\n",
       "    </tr>\n",
       "    <tr>\n",
       "      <th>Quantity</th>\n",
       "      <td>1000.0</td>\n",
       "      <td>5.510000</td>\n",
       "      <td>2.923431</td>\n",
       "      <td>1.000000</td>\n",
       "      <td>3.000000</td>\n",
       "      <td>5.000000</td>\n",
       "      <td>8.000000</td>\n",
       "      <td>10.000000</td>\n",
       "    </tr>\n",
       "    <tr>\n",
       "      <th>Tax 5%</th>\n",
       "      <td>1000.0</td>\n",
       "      <td>15.379369</td>\n",
       "      <td>11.708825</td>\n",
       "      <td>0.508500</td>\n",
       "      <td>5.924875</td>\n",
       "      <td>12.088000</td>\n",
       "      <td>22.445250</td>\n",
       "      <td>49.650000</td>\n",
       "    </tr>\n",
       "    <tr>\n",
       "      <th>Total</th>\n",
       "      <td>1000.0</td>\n",
       "      <td>322.966749</td>\n",
       "      <td>245.885335</td>\n",
       "      <td>10.678500</td>\n",
       "      <td>124.422375</td>\n",
       "      <td>253.848000</td>\n",
       "      <td>471.350250</td>\n",
       "      <td>1042.650000</td>\n",
       "    </tr>\n",
       "    <tr>\n",
       "      <th>cogs</th>\n",
       "      <td>1000.0</td>\n",
       "      <td>307.587380</td>\n",
       "      <td>234.176510</td>\n",
       "      <td>10.170000</td>\n",
       "      <td>118.497500</td>\n",
       "      <td>241.760000</td>\n",
       "      <td>448.905000</td>\n",
       "      <td>993.000000</td>\n",
       "    </tr>\n",
       "    <tr>\n",
       "      <th>gross margin percentage</th>\n",
       "      <td>1000.0</td>\n",
       "      <td>4.761905</td>\n",
       "      <td>0.000000</td>\n",
       "      <td>4.761905</td>\n",
       "      <td>4.761905</td>\n",
       "      <td>4.761905</td>\n",
       "      <td>4.761905</td>\n",
       "      <td>4.761905</td>\n",
       "    </tr>\n",
       "    <tr>\n",
       "      <th>gross income</th>\n",
       "      <td>1000.0</td>\n",
       "      <td>15.379369</td>\n",
       "      <td>11.708825</td>\n",
       "      <td>0.508500</td>\n",
       "      <td>5.924875</td>\n",
       "      <td>12.088000</td>\n",
       "      <td>22.445250</td>\n",
       "      <td>49.650000</td>\n",
       "    </tr>\n",
       "    <tr>\n",
       "      <th>Rating</th>\n",
       "      <td>1000.0</td>\n",
       "      <td>6.972700</td>\n",
       "      <td>1.718580</td>\n",
       "      <td>4.000000</td>\n",
       "      <td>5.500000</td>\n",
       "      <td>7.000000</td>\n",
       "      <td>8.500000</td>\n",
       "      <td>10.000000</td>\n",
       "    </tr>\n",
       "  </tbody>\n",
       "</table>\n",
       "</div>"
      ],
      "text/plain": [
       "                          count        mean         std        min  \\\n",
       "Unit price               1000.0   55.672130   26.494628  10.080000   \n",
       "Quantity                 1000.0    5.510000    2.923431   1.000000   \n",
       "Tax 5%                   1000.0   15.379369   11.708825   0.508500   \n",
       "Total                    1000.0  322.966749  245.885335  10.678500   \n",
       "cogs                     1000.0  307.587380  234.176510  10.170000   \n",
       "gross margin percentage  1000.0    4.761905    0.000000   4.761905   \n",
       "gross income             1000.0   15.379369   11.708825   0.508500   \n",
       "Rating                   1000.0    6.972700    1.718580   4.000000   \n",
       "\n",
       "                                25%         50%         75%          max  \n",
       "Unit price                32.875000   55.230000   77.935000    99.960000  \n",
       "Quantity                   3.000000    5.000000    8.000000    10.000000  \n",
       "Tax 5%                     5.924875   12.088000   22.445250    49.650000  \n",
       "Total                    124.422375  253.848000  471.350250  1042.650000  \n",
       "cogs                     118.497500  241.760000  448.905000   993.000000  \n",
       "gross margin percentage    4.761905    4.761905    4.761905     4.761905  \n",
       "gross income               5.924875   12.088000   22.445250    49.650000  \n",
       "Rating                     5.500000    7.000000    8.500000    10.000000  "
      ]
     },
     "execution_count": 5,
     "metadata": {},
     "output_type": "execute_result"
    }
   ],
   "source": [
    "df.describe().T"
   ]
  },
  {
   "cell_type": "code",
   "execution_count": 6,
   "id": "a6ff378b",
   "metadata": {
    "execution": {
     "iopub.execute_input": "2022-07-31T10:55:06.794896Z",
     "iopub.status.busy": "2022-07-31T10:55:06.794492Z",
     "iopub.status.idle": "2022-07-31T10:55:06.805604Z",
     "shell.execute_reply": "2022-07-31T10:55:06.804698Z"
    },
    "papermill": {
     "duration": 0.027429,
     "end_time": "2022-07-31T10:55:06.807751",
     "exception": false,
     "start_time": "2022-07-31T10:55:06.780322",
     "status": "completed"
    },
    "tags": []
   },
   "outputs": [
    {
     "data": {
      "text/plain": [
       "Invoice ID                 0\n",
       "Branch                     0\n",
       "City                       0\n",
       "Customer type              0\n",
       "Gender                     0\n",
       "Product line               0\n",
       "Unit price                 0\n",
       "Quantity                   0\n",
       "Tax 5%                     0\n",
       "Total                      0\n",
       "Date                       0\n",
       "Time                       0\n",
       "Payment                    0\n",
       "cogs                       0\n",
       "gross margin percentage    0\n",
       "gross income               0\n",
       "Rating                     0\n",
       "dtype: int64"
      ]
     },
     "execution_count": 6,
     "metadata": {},
     "output_type": "execute_result"
    }
   ],
   "source": [
    "df.isnull().sum()"
   ]
  },
  {
   "cell_type": "code",
   "execution_count": 7,
   "id": "37f37370",
   "metadata": {
    "execution": {
     "iopub.execute_input": "2022-07-31T10:55:06.835156Z",
     "iopub.status.busy": "2022-07-31T10:55:06.834423Z",
     "iopub.status.idle": "2022-07-31T10:55:06.846188Z",
     "shell.execute_reply": "2022-07-31T10:55:06.845066Z"
    },
    "papermill": {
     "duration": 0.02923,
     "end_time": "2022-07-31T10:55:06.849549",
     "exception": false,
     "start_time": "2022-07-31T10:55:06.820319",
     "status": "completed"
    },
    "tags": []
   },
   "outputs": [],
   "source": [
    "df.columns = df.columns.str.lower().str.replace(\" \", \"_\")"
   ]
  },
  {
   "cell_type": "code",
   "execution_count": 8,
   "id": "a0fcf74c",
   "metadata": {
    "execution": {
     "iopub.execute_input": "2022-07-31T10:55:06.877271Z",
     "iopub.status.busy": "2022-07-31T10:55:06.876900Z",
     "iopub.status.idle": "2022-07-31T10:55:06.900470Z",
     "shell.execute_reply": "2022-07-31T10:55:06.899472Z"
    },
    "papermill": {
     "duration": 0.040398,
     "end_time": "2022-07-31T10:55:06.902983",
     "exception": false,
     "start_time": "2022-07-31T10:55:06.862585",
     "status": "completed"
    },
    "tags": []
   },
   "outputs": [],
   "source": [
    "strings = list(df.dtypes[df.dtypes == 'object'].index)\n",
    "for col in strings:\n",
    "    df[col] = df[col].str.lower().str.replace(\" \", \"_\")"
   ]
  },
  {
   "cell_type": "code",
   "execution_count": 9,
   "id": "94641419",
   "metadata": {
    "execution": {
     "iopub.execute_input": "2022-07-31T10:55:06.930913Z",
     "iopub.status.busy": "2022-07-31T10:55:06.930101Z",
     "iopub.status.idle": "2022-07-31T10:55:06.949705Z",
     "shell.execute_reply": "2022-07-31T10:55:06.948573Z"
    },
    "papermill": {
     "duration": 0.039094,
     "end_time": "2022-07-31T10:55:06.954750",
     "exception": false,
     "start_time": "2022-07-31T10:55:06.915656",
     "status": "completed"
    },
    "tags": []
   },
   "outputs": [],
   "source": [
    "df['date'] = pd.to_datetime(df['date'])"
   ]
  },
  {
   "cell_type": "code",
   "execution_count": 10,
   "id": "d16f79f3",
   "metadata": {
    "execution": {
     "iopub.execute_input": "2022-07-31T10:55:06.994494Z",
     "iopub.status.busy": "2022-07-31T10:55:06.993590Z",
     "iopub.status.idle": "2022-07-31T10:55:07.002981Z",
     "shell.execute_reply": "2022-07-31T10:55:07.002147Z"
    },
    "papermill": {
     "duration": 0.031016,
     "end_time": "2022-07-31T10:55:07.005434",
     "exception": false,
     "start_time": "2022-07-31T10:55:06.974418",
     "status": "completed"
    },
    "tags": []
   },
   "outputs": [],
   "source": [
    "df['year'] = df['date'].dt.year\n",
    "df['month'] = df['date'].dt.month\n",
    "df['day'] = df['date'].dt.day_name()"
   ]
  },
  {
   "cell_type": "markdown",
   "id": "56c9526f",
   "metadata": {
    "papermill": {
     "duration": 0.015087,
     "end_time": "2022-07-31T10:55:07.033438",
     "exception": false,
     "start_time": "2022-07-31T10:55:07.018351",
     "status": "completed"
    },
    "tags": []
   },
   "source": [
    "# Explanatory data analysis"
   ]
  },
  {
   "cell_type": "code",
   "execution_count": 11,
   "id": "4de5d59a",
   "metadata": {
    "execution": {
     "iopub.execute_input": "2022-07-31T10:55:07.061972Z",
     "iopub.status.busy": "2022-07-31T10:55:07.061596Z",
     "iopub.status.idle": "2022-07-31T10:55:07.270963Z",
     "shell.execute_reply": "2022-07-31T10:55:07.269860Z"
    },
    "papermill": {
     "duration": 0.226366,
     "end_time": "2022-07-31T10:55:07.273762",
     "exception": false,
     "start_time": "2022-07-31T10:55:07.047396",
     "status": "completed"
    },
    "tags": []
   },
   "outputs": [
    {
     "data": {
      "text/plain": [
       "Text(0.5, 1.0, ' Types of customers ')"
      ]
     },
     "execution_count": 11,
     "metadata": {},
     "output_type": "execute_result"
    },
    {
     "data": {
      "image/png": "[encoded data removed]",
      "text/plain": [
       "<Figure size 720x360 with 1 Axes>"
      ]
     },
     "metadata": {
      "needs_background": "light"
     },
     "output_type": "display_data"
    }
   ],
   "source": [
    "plt.figure(figsize = (10, 5))\n",
    "sns.countplot(x = 'customer_type', data = df)\n",
    "plt.title(\" Types of customers \")"
   ]
  },
  {
   "cell_type": "code",
   "execution_count": 12,
   "id": "25301254",
   "metadata": {
    "execution": {
     "iopub.execute_input": "2022-07-31T10:55:07.302098Z",
     "iopub.status.busy": "2022-07-31T10:55:07.301443Z",
     "iopub.status.idle": "2022-07-31T10:55:07.472330Z",
     "shell.execute_reply": "2022-07-31T10:55:07.471233Z"
    },
    "papermill": {
     "duration": 0.188315,
     "end_time": "2022-07-31T10:55:07.475128",
     "exception": false,
     "start_time": "2022-07-31T10:55:07.286813",
     "status": "completed"
    },
    "tags": []
   },
   "outputs": [
    {
     "data": {
      "text/plain": [
       "Text(0.5, 1.0, ' Number of transactions per gender')"
      ]
     },
     "execution_count": 12,
     "metadata": {},
     "output_type": "execute_result"
    },
    {
     "data": {
      "image/png": "[encoded data removed]",
      "text/plain": [
       "<Figure size 720x360 with 1 Axes>"
      ]
     },
     "metadata": {
      "needs_background": "light"
     },
     "output_type": "display_data"
    }
   ],
   "source": [
    "plt.figure(figsize= (10, 5))\n",
    "sns.countplot(x= 'gender', data = df)\n",
    "plt.title(\" Number of transactions per gender\")"
   ]
  },
  {
   "cell_type": "code",
   "execution_count": 13,
   "id": "c13b2ad1",
   "metadata": {
    "execution": {
     "iopub.execute_input": "2022-07-31T10:55:07.504263Z",
     "iopub.status.busy": "2022-07-31T10:55:07.503862Z",
     "iopub.status.idle": "2022-07-31T10:55:07.795162Z",
     "shell.execute_reply": "2022-07-31T10:55:07.794258Z"
    },
    "papermill": {
     "duration": 0.308992,
     "end_time": "2022-07-31T10:55:07.797808",
     "exception": false,
     "start_time": "2022-07-31T10:55:07.488816",
     "status": "completed"
    },
    "tags": []
   },
   "outputs": [
    {
     "data": {
      "text/plain": [
       "Text(0.5, 1.0, ' gross income in m by city')"
      ]
     },
     "execution_count": 13,
     "metadata": {},
     "output_type": "execute_result"
    },
    {
     "data": {
      "image/png": "[encoded data removed]",
      "text/plain": [
       "<Figure size 720x360 with 1 Axes>"
      ]
     },
     "metadata": {
      "needs_background": "light"
     },
     "output_type": "display_data"
    }
   ],
   "source": [
    "plt.figure(figsize= (10, 5))\n",
    "sns.barplot(x= 'city', y= 'gross_income',data = df)\n",
    "plt.title(\" gross income in m by city\")"
   ]
  },
  {
   "cell_type": "code",
   "execution_count": 14,
   "id": "39b69d6f",
   "metadata": {
    "execution": {
     "iopub.execute_input": "2022-07-31T10:55:07.828852Z",
     "iopub.status.busy": "2022-07-31T10:55:07.828011Z",
     "iopub.status.idle": "2022-07-31T10:55:08.112084Z",
     "shell.execute_reply": "2022-07-31T10:55:08.111236Z"
    },
    "papermill": {
     "duration": 0.302628,
     "end_time": "2022-07-31T10:55:08.114517",
     "exception": false,
     "start_time": "2022-07-31T10:55:07.811889",
     "status": "completed"
    },
    "tags": []
   },
   "outputs": [
    {
     "data": {
      "text/plain": [
       "Text(0.5, 1.0, 'Tax payed per city')"
      ]
     },
     "execution_count": 14,
     "metadata": {},
     "output_type": "execute_result"
    },
    {
     "data": {
      "image/png": "[encoded data removed]",
      "text/plain": [
       "<Figure size 720x360 with 1 Axes>"
      ]
     },
     "metadata": {
      "needs_background": "light"
     },
     "output_type": "display_data"
    }
   ],
   "source": [
    "plt.figure(figsize= (10, 5))\n",
    "sns.barplot(x= 'city',y= 'tax_5%', data = df)\n",
    "plt.title(\"Tax payed per city\")"
   ]
  },
  {
   "cell_type": "code",
   "execution_count": 15,
   "id": "aaa20ee9",
   "metadata": {
    "execution": {
     "iopub.execute_input": "2022-07-31T10:55:08.144908Z",
     "iopub.status.busy": "2022-07-31T10:55:08.144501Z",
     "iopub.status.idle": "2022-07-31T10:55:08.562020Z",
     "shell.execute_reply": "2022-07-31T10:55:08.560716Z"
    },
    "papermill": {
     "duration": 0.435664,
     "end_time": "2022-07-31T10:55:08.564543",
     "exception": false,
     "start_time": "2022-07-31T10:55:08.128879",
     "status": "completed"
    },
    "tags": []
   },
   "outputs": [
    {
     "data": {
      "text/plain": [
       "Text(0.5, 1.0, 'Gross income  per product line')"
      ]
     },
     "execution_count": 15,
     "metadata": {},
     "output_type": "execute_result"
    },
    {
     "data": {
      "image/png": "[encoded data removed]",
      "text/plain": [
       "<Figure size 720x360 with 1 Axes>"
      ]
     },
     "metadata": {
      "needs_background": "light"
     },
     "output_type": "display_data"
    }
   ],
   "source": [
    "plt.figure(figsize= (10, 5))\n",
    "plt.xticks(rotation = 30)\n",
    "sns.barplot(x= 'product_line', y='gross_income', data = df, order = df.product_line.value_counts().sort_values(ascending = True).index)\n",
    "plt.title(\"Gross income  per product line\")"
   ]
  },
  {
   "cell_type": "code",
   "execution_count": 16,
   "id": "3ecb76dd",
   "metadata": {
    "execution": {
     "iopub.execute_input": "2022-07-31T10:55:08.596593Z",
     "iopub.status.busy": "2022-07-31T10:55:08.596214Z",
     "iopub.status.idle": "2022-07-31T10:55:08.612159Z",
     "shell.execute_reply": "2022-07-31T10:55:08.610697Z"
    },
    "papermill": {
     "duration": 0.035005,
     "end_time": "2022-07-31T10:55:08.614662",
     "exception": false,
     "start_time": "2022-07-31T10:55:08.579657",
     "status": "completed"
    },
    "tags": []
   },
   "outputs": [
    {
     "name": "stdout",
     "output_type": "stream",
     "text": [
      "branch\n",
      "c    5265.1765\n",
      "a    5057.1605\n",
      "b    5057.0320\n",
      "Name: gross_income, dtype: float64\n",
      "city\n",
      "naypyitaw    5265.1765\n",
      "yangon       5057.1605\n",
      "mandalay     5057.0320\n",
      "Name: gross_income, dtype: float64\n"
     ]
    }
   ],
   "source": [
    "# df.iloc[df['gross_income'].sum()].sort_values(ascending = False).head()\n",
    "\n",
    "Best_branch = df.groupby(\"branch\")['gross_income'].sum().sort_values(ascending = False).head()\n",
    "Best_city =  df.groupby(\"city\")['gross_income'].sum().sort_values(ascending = False).head()\n",
    "\n",
    "print(Best_branch)\n",
    "print(Best_city)"
   ]
  },
  {
   "cell_type": "code",
   "execution_count": 17,
   "id": "82ad8087",
   "metadata": {
    "execution": {
     "iopub.execute_input": "2022-07-31T10:55:08.646434Z",
     "iopub.status.busy": "2022-07-31T10:55:08.645797Z",
     "iopub.status.idle": "2022-07-31T10:55:09.040250Z",
     "shell.execute_reply": "2022-07-31T10:55:09.039158Z"
    },
    "papermill": {
     "duration": 0.412865,
     "end_time": "2022-07-31T10:55:09.042587",
     "exception": false,
     "start_time": "2022-07-31T10:55:08.629722",
     "status": "completed"
    },
    "tags": []
   },
   "outputs": [
    {
     "data": {
      "text/plain": [
       "Text(0.5, 1.0, 'Grows income distribution')"
      ]
     },
     "execution_count": 17,
     "metadata": {},
     "output_type": "execute_result"
    },
    {
     "data": {
      "image/png": "[encoded data removed]",
      "text/plain": [
       "<Figure size 720x360 with 1 Axes>"
      ]
     },
     "metadata": {
      "needs_background": "light"
     },
     "output_type": "display_data"
    }
   ],
   "source": [
    "plt.figure(figsize = (10, 5))\n",
    "sns.histplot(x=df.gross_income, kde= True, bins = 90)\n",
    "plt.title(\"Grows income distribution\")"
   ]
  },
  {
   "cell_type": "code",
   "execution_count": 18,
   "id": "94b3c6d6",
   "metadata": {
    "execution": {
     "iopub.execute_input": "2022-07-31T10:55:09.075625Z",
     "iopub.status.busy": "2022-07-31T10:55:09.075226Z",
     "iopub.status.idle": "2022-07-31T10:55:09.448847Z",
     "shell.execute_reply": "2022-07-31T10:55:09.447506Z"
    },
    "papermill": {
     "duration": 0.392864,
     "end_time": "2022-07-31T10:55:09.451516",
     "exception": false,
     "start_time": "2022-07-31T10:55:09.058652",
     "status": "completed"
    },
    "tags": []
   },
   "outputs": [
    {
     "data": {
      "text/plain": [
       "<AxesSubplot:xlabel='tax_5%', ylabel='Count'>"
      ]
     },
     "execution_count": 18,
     "metadata": {},
     "output_type": "execute_result"
    },
    {
     "data": {
      "image/png": "[encoded data removed]",
      "text/plain": [
       "<Figure size 720x360 with 1 Axes>"
      ]
     },
     "metadata": {
      "needs_background": "light"
     },
     "output_type": "display_data"
    }
   ],
   "source": [
    "plt.figure(figsize = (10, 5))\n",
    "sns.histplot(x=df['tax_5%'], kde= True, bins = 90)"
   ]
  },
  {
   "cell_type": "code",
   "execution_count": 19,
   "id": "5765817d",
   "metadata": {
    "execution": {
     "iopub.execute_input": "2022-07-31T10:55:09.486139Z",
     "iopub.status.busy": "2022-07-31T10:55:09.485040Z",
     "iopub.status.idle": "2022-07-31T10:55:09.786987Z",
     "shell.execute_reply": "2022-07-31T10:55:09.786152Z"
    },
    "papermill": {
     "duration": 0.321787,
     "end_time": "2022-07-31T10:55:09.789318",
     "exception": false,
     "start_time": "2022-07-31T10:55:09.467531",
     "status": "completed"
    },
    "tags": []
   },
   "outputs": [
    {
     "data": {
      "text/plain": [
       "Text(0.5, 1.0, 'Unit price distribution ')"
      ]
     },
     "execution_count": 19,
     "metadata": {},
     "output_type": "execute_result"
    },
    {
     "data": {
      "image/png": "[encoded data removed]",
      "text/plain": [
       "<Figure size 720x360 with 1 Axes>"
      ]
     },
     "metadata": {
      "needs_background": "light"
     },
     "output_type": "display_data"
    }
   ],
   "source": [
    "plt.figure(figsize = (10, 5))\n",
    "sns.histplot(x=df['unit_price'], kde= True, bins = 50)\n",
    "plt.title(\"Unit price distribution \")"
   ]
  },
  {
   "cell_type": "code",
   "execution_count": 20,
   "id": "9269fa6a",
   "metadata": {
    "execution": {
     "iopub.execute_input": "2022-07-31T10:55:09.825206Z",
     "iopub.status.busy": "2022-07-31T10:55:09.824107Z",
     "iopub.status.idle": "2022-07-31T10:55:10.106731Z",
     "shell.execute_reply": "2022-07-31T10:55:10.105428Z"
    },
    "papermill": {
     "duration": 0.30317,
     "end_time": "2022-07-31T10:55:10.109338",
     "exception": false,
     "start_time": "2022-07-31T10:55:09.806168",
     "status": "completed"
    },
    "tags": []
   },
   "outputs": [
    {
     "data": {
      "text/plain": [
       "Text(0.5, 1.0, ' Product quantity distribution ')"
      ]
     },
     "execution_count": 20,
     "metadata": {},
     "output_type": "execute_result"
    },
    {
     "data": {
      "image/png": "[encoded data removed]",
      "text/plain": [
       "<Figure size 720x360 with 1 Axes>"
      ]
     },
     "metadata": {
      "needs_background": "light"
     },
     "output_type": "display_data"
    }
   ],
   "source": [
    "plt.figure(figsize = (10, 5))\n",
    "ax =sns.countplot(x= \"quantity\", data =df)\n",
    "for container in ax.containers:\n",
    "    ax.bar_label(container)\n",
    "sns.countplot(x = df.quantity, order = df.quantity.value_counts().sort_values(ascending=True).index)    \n",
    "plt.title(\" Product quantity distribution \")"
   ]
  },
  {
   "cell_type": "code",
   "execution_count": 21,
   "id": "ab51d016",
   "metadata": {
    "execution": {
     "iopub.execute_input": "2022-07-31T10:55:10.145035Z",
     "iopub.status.busy": "2022-07-31T10:55:10.144325Z",
     "iopub.status.idle": "2022-07-31T10:55:10.396735Z",
     "shell.execute_reply": "2022-07-31T10:55:10.395660Z"
    },
    "papermill": {
     "duration": 0.27322,
     "end_time": "2022-07-31T10:55:10.399300",
     "exception": false,
     "start_time": "2022-07-31T10:55:10.126080",
     "status": "completed"
    },
    "tags": []
   },
   "outputs": [
    {
     "data": {
      "text/plain": [
       "<AxesSubplot:xlabel='gross_income', ylabel='product_line'>"
      ]
     },
     "execution_count": 21,
     "metadata": {},
     "output_type": "execute_result"
    },
    {
     "data": {
      "image/png": "[encoded data removed]",
      "text/plain": [
       "<Figure size 720x360 with 1 Axes>"
      ]
     },
     "metadata": {
      "needs_background": "light"
     },
     "output_type": "display_data"
    }
   ],
   "source": [
    "plt.figure(figsize = (10, 5))\n",
    "sns.boxplot( y = df.product_line, x= df.gross_income)"
   ]
  },
  {
   "cell_type": "code",
   "execution_count": 22,
   "id": "23386d33",
   "metadata": {
    "execution": {
     "iopub.execute_input": "2022-07-31T10:55:10.436401Z",
     "iopub.status.busy": "2022-07-31T10:55:10.435871Z",
     "iopub.status.idle": "2022-07-31T10:55:10.645385Z",
     "shell.execute_reply": "2022-07-31T10:55:10.644245Z"
    },
    "papermill": {
     "duration": 0.231571,
     "end_time": "2022-07-31T10:55:10.648152",
     "exception": false,
     "start_time": "2022-07-31T10:55:10.416581",
     "status": "completed"
    },
    "tags": []
   },
   "outputs": [
    {
     "data": {
      "text/plain": [
       "Text(0.5, 1.0, 'Payment methods used ')"
      ]
     },
     "execution_count": 22,
     "metadata": {},
     "output_type": "execute_result"
    },
    {
     "data": {
      "image/png": "[encoded data removed]",
      "text/plain": [
       "<Figure size 720x360 with 1 Axes>"
      ]
     },
     "metadata": {
      "needs_background": "light"
     },
     "output_type": "display_data"
    }
   ],
   "source": [
    "plt.figure(figsize= (10, 5))\n",
    "ax = sns.countplot(x=\"payment\", data = df)\n",
    "for container in ax.containers:\n",
    "    ax.bar_label(container)\n",
    "sns.countplot( x = df.payment, data = df)\n",
    "plt.title('Payment methods used ')"
   ]
  },
  {
   "cell_type": "code",
   "execution_count": 23,
   "id": "dd741677",
   "metadata": {
    "execution": {
     "iopub.execute_input": "2022-07-31T10:55:10.685125Z",
     "iopub.status.busy": "2022-07-31T10:55:10.684762Z",
     "iopub.status.idle": "2022-07-31T10:55:11.122840Z",
     "shell.execute_reply": "2022-07-31T10:55:11.121578Z"
    },
    "papermill": {
     "duration": 0.459566,
     "end_time": "2022-07-31T10:55:11.125320",
     "exception": false,
     "start_time": "2022-07-31T10:55:10.665754",
     "status": "completed"
    },
    "tags": []
   },
   "outputs": [
    {
     "data": {
      "text/plain": [
       "Text(0.5, 1.0, 'Quantity of items boughr per day')"
      ]
     },
     "execution_count": 23,
     "metadata": {},
     "output_type": "execute_result"
    },
    {
     "data": {
      "image/png": "[encoded data removed]",
      "text/plain": [
       "<Figure size 720x360 with 1 Axes>"
      ]
     },
     "metadata": {
      "needs_background": "light"
     },
     "output_type": "display_data"
    }
   ],
   "source": [
    "plt.figure(figsize = (10, 5))\n",
    "sns.barplot(y='quantity', x ='day', data =df)\n",
    "plt.title(\"Quantity of items boughr per day\")"
   ]
  },
  {
   "cell_type": "markdown",
   "id": "00e818e5",
   "metadata": {
    "papermill": {
     "duration": 0.017797,
     "end_time": "2022-07-31T10:55:11.161408",
     "exception": false,
     "start_time": "2022-07-31T10:55:11.143611",
     "status": "completed"
    },
    "tags": []
   },
   "source": [
    "## Preparing Data for prediction"
   ]
  },
  {
   "cell_type": "markdown",
   "id": "29e0b52a",
   "metadata": {
    "papermill": {
     "duration": 0.017495,
     "end_time": "2022-07-31T10:55:11.196854",
     "exception": false,
     "start_time": "2022-07-31T10:55:11.179359",
     "status": "completed"
    },
    "tags": []
   },
   "source": [
    "##### Working on categorical variables"
   ]
  },
  {
   "cell_type": "code",
   "execution_count": 24,
   "id": "1da7e567",
   "metadata": {
    "execution": {
     "iopub.execute_input": "2022-07-31T10:55:11.235288Z",
     "iopub.status.busy": "2022-07-31T10:55:11.234468Z",
     "iopub.status.idle": "2022-07-31T10:55:11.242293Z",
     "shell.execute_reply": "2022-07-31T10:55:11.241380Z"
    },
    "papermill": {
     "duration": 0.029972,
     "end_time": "2022-07-31T10:55:11.244793",
     "exception": false,
     "start_time": "2022-07-31T10:55:11.214821",
     "status": "completed"
    },
    "tags": []
   },
   "outputs": [],
   "source": [
    "df['gender']=0\n",
    "df.loc[df['gender']==\"female\",'gender']=1\n",
    "df.loc[(df['gender']==\"male\"),'gender']=2"
   ]
  },
  {
   "cell_type": "code",
   "execution_count": 25,
   "id": "4dc7c82a",
   "metadata": {
    "execution": {
     "iopub.execute_input": "2022-07-31T10:55:11.282753Z",
     "iopub.status.busy": "2022-07-31T10:55:11.281978Z",
     "iopub.status.idle": "2022-07-31T10:55:11.293191Z",
     "shell.execute_reply": "2022-07-31T10:55:11.292334Z"
    },
    "papermill": {
     "duration": 0.032827,
     "end_time": "2022-07-31T10:55:11.295576",
     "exception": false,
     "start_time": "2022-07-31T10:55:11.262749",
     "status": "completed"
    },
    "tags": []
   },
   "outputs": [],
   "source": [
    "df['product_line']=0\n",
    "df.loc[df['product_line'] == 'health_and_beauty', 'product_line']=1\n",
    "df.loc[df['product_line'] == 'electronic_accessories', 'product_line'] = 2\n",
    "df.loc[df['product_line']==  'home_and_lifestyle', 'product_line'] = 3\n",
    "df.loc[df['product_line'] == 'sports_and_travel', 'product_line'] = 4\n",
    "df.loc[df['product_line'] == 'food_and_beverages','product_line'] = 5\n",
    "df.loc[df['product_line'] == 'fashion_accessories', 'product_line'] = 6"
   ]
  },
  {
   "cell_type": "code",
   "execution_count": 26,
   "id": "ded64ab6",
   "metadata": {
    "execution": {
     "iopub.execute_input": "2022-07-31T10:55:11.334640Z",
     "iopub.status.busy": "2022-07-31T10:55:11.332853Z",
     "iopub.status.idle": "2022-07-31T10:55:11.341652Z",
     "shell.execute_reply": "2022-07-31T10:55:11.340718Z"
    },
    "papermill": {
     "duration": 0.03053,
     "end_time": "2022-07-31T10:55:11.344057",
     "exception": false,
     "start_time": "2022-07-31T10:55:11.313527",
     "status": "completed"
    },
    "tags": []
   },
   "outputs": [],
   "source": [
    "df.loc[df['customer_type'] =='member', 'customer_type']= 1\n",
    "df.loc[df['customer_type'] == 'normal', 'customer_type'] = 2"
   ]
  },
  {
   "cell_type": "code",
   "execution_count": 27,
   "id": "995a69e5",
   "metadata": {
    "execution": {
     "iopub.execute_input": "2022-07-31T10:55:11.382586Z",
     "iopub.status.busy": "2022-07-31T10:55:11.381383Z",
     "iopub.status.idle": "2022-07-31T10:55:11.390460Z",
     "shell.execute_reply": "2022-07-31T10:55:11.389637Z"
    },
    "papermill": {
     "duration": 0.030732,
     "end_time": "2022-07-31T10:55:11.392836",
     "exception": false,
     "start_time": "2022-07-31T10:55:11.362104",
     "status": "completed"
    },
    "tags": []
   },
   "outputs": [],
   "source": [
    "df.loc[df['city']== 'yangon', 'city'] = 1\n",
    "df.loc[df['city']== 'naypyitaw', 'city'] =2\n",
    "df.loc[df['city']== 'mandalay', 'city'] =3"
   ]
  },
  {
   "cell_type": "code",
   "execution_count": 28,
   "id": "e3709113",
   "metadata": {
    "execution": {
     "iopub.execute_input": "2022-07-31T10:55:11.431026Z",
     "iopub.status.busy": "2022-07-31T10:55:11.429842Z",
     "iopub.status.idle": "2022-07-31T10:55:11.457977Z",
     "shell.execute_reply": "2022-07-31T10:55:11.456864Z"
    },
    "papermill": {
     "duration": 0.049602,
     "end_time": "2022-07-31T10:55:11.460356",
     "exception": false,
     "start_time": "2022-07-31T10:55:11.410754",
     "status": "completed"
    },
    "tags": []
   },
   "outputs": [
    {
     "data": {
      "text/html": [
       "<div>\n",
       "<style scoped>\n",
       "    .dataframe tbody tr th:only-of-type {\n",
       "        vertical-align: middle;\n",
       "    }\n",
       "\n",
       "    .dataframe tbody tr th {\n",
       "        vertical-align: top;\n",
       "    }\n",
       "\n",
       "    .dataframe thead th {\n",
       "        text-align: right;\n",
       "    }\n",
       "</style>\n",
       "<table border=\"1\" class=\"dataframe\">\n",
       "  <thead>\n",
       "    <tr style=\"text-align: right;\">\n",
       "      <th></th>\n",
       "      <th>invoice_id</th>\n",
       "      <th>branch</th>\n",
       "      <th>city</th>\n",
       "      <th>customer_type</th>\n",
       "      <th>gender</th>\n",
       "      <th>product_line</th>\n",
       "      <th>unit_price</th>\n",
       "      <th>quantity</th>\n",
       "      <th>tax_5%</th>\n",
       "      <th>total</th>\n",
       "      <th>date</th>\n",
       "      <th>time</th>\n",
       "      <th>payment</th>\n",
       "      <th>cogs</th>\n",
       "      <th>gross_margin_percentage</th>\n",
       "      <th>gross_income</th>\n",
       "      <th>rating</th>\n",
       "      <th>year</th>\n",
       "      <th>month</th>\n",
       "      <th>day</th>\n",
       "    </tr>\n",
       "  </thead>\n",
       "  <tbody>\n",
       "    <tr>\n",
       "      <th>0</th>\n",
       "      <td>750-67-8428</td>\n",
       "      <td>1</td>\n",
       "      <td>1</td>\n",
       "      <td>1</td>\n",
       "      <td>0</td>\n",
       "      <td>0</td>\n",
       "      <td>74.69</td>\n",
       "      <td>7</td>\n",
       "      <td>26.1415</td>\n",
       "      <td>548.9715</td>\n",
       "      <td>2019-01-05</td>\n",
       "      <td>13:08</td>\n",
       "      <td>ewallet</td>\n",
       "      <td>522.83</td>\n",
       "      <td>4.761905</td>\n",
       "      <td>26.1415</td>\n",
       "      <td>9.1</td>\n",
       "      <td>2019</td>\n",
       "      <td>1</td>\n",
       "      <td>Saturday</td>\n",
       "    </tr>\n",
       "    <tr>\n",
       "      <th>1</th>\n",
       "      <td>226-31-3081</td>\n",
       "      <td>3</td>\n",
       "      <td>2</td>\n",
       "      <td>2</td>\n",
       "      <td>0</td>\n",
       "      <td>0</td>\n",
       "      <td>15.28</td>\n",
       "      <td>5</td>\n",
       "      <td>3.8200</td>\n",
       "      <td>80.2200</td>\n",
       "      <td>2019-03-08</td>\n",
       "      <td>10:29</td>\n",
       "      <td>cash</td>\n",
       "      <td>76.40</td>\n",
       "      <td>4.761905</td>\n",
       "      <td>3.8200</td>\n",
       "      <td>9.6</td>\n",
       "      <td>2019</td>\n",
       "      <td>3</td>\n",
       "      <td>Friday</td>\n",
       "    </tr>\n",
       "    <tr>\n",
       "      <th>2</th>\n",
       "      <td>631-41-3108</td>\n",
       "      <td>1</td>\n",
       "      <td>1</td>\n",
       "      <td>2</td>\n",
       "      <td>0</td>\n",
       "      <td>0</td>\n",
       "      <td>46.33</td>\n",
       "      <td>7</td>\n",
       "      <td>16.2155</td>\n",
       "      <td>340.5255</td>\n",
       "      <td>2019-03-03</td>\n",
       "      <td>13:23</td>\n",
       "      <td>credit_card</td>\n",
       "      <td>324.31</td>\n",
       "      <td>4.761905</td>\n",
       "      <td>16.2155</td>\n",
       "      <td>7.4</td>\n",
       "      <td>2019</td>\n",
       "      <td>3</td>\n",
       "      <td>Sunday</td>\n",
       "    </tr>\n",
       "    <tr>\n",
       "      <th>3</th>\n",
       "      <td>123-19-1176</td>\n",
       "      <td>1</td>\n",
       "      <td>1</td>\n",
       "      <td>1</td>\n",
       "      <td>0</td>\n",
       "      <td>0</td>\n",
       "      <td>58.22</td>\n",
       "      <td>8</td>\n",
       "      <td>23.2880</td>\n",
       "      <td>489.0480</td>\n",
       "      <td>2019-01-27</td>\n",
       "      <td>20:33</td>\n",
       "      <td>ewallet</td>\n",
       "      <td>465.76</td>\n",
       "      <td>4.761905</td>\n",
       "      <td>23.2880</td>\n",
       "      <td>8.4</td>\n",
       "      <td>2019</td>\n",
       "      <td>1</td>\n",
       "      <td>Sunday</td>\n",
       "    </tr>\n",
       "    <tr>\n",
       "      <th>4</th>\n",
       "      <td>373-73-7910</td>\n",
       "      <td>1</td>\n",
       "      <td>1</td>\n",
       "      <td>2</td>\n",
       "      <td>0</td>\n",
       "      <td>0</td>\n",
       "      <td>86.31</td>\n",
       "      <td>7</td>\n",
       "      <td>30.2085</td>\n",
       "      <td>634.3785</td>\n",
       "      <td>2019-02-08</td>\n",
       "      <td>10:37</td>\n",
       "      <td>ewallet</td>\n",
       "      <td>604.17</td>\n",
       "      <td>4.761905</td>\n",
       "      <td>30.2085</td>\n",
       "      <td>5.3</td>\n",
       "      <td>2019</td>\n",
       "      <td>2</td>\n",
       "      <td>Friday</td>\n",
       "    </tr>\n",
       "  </tbody>\n",
       "</table>\n",
       "</div>"
      ],
      "text/plain": [
       "    invoice_id branch city customer_type  gender  product_line  unit_price  \\\n",
       "0  750-67-8428      1    1             1       0             0       74.69   \n",
       "1  226-31-3081      3    2             2       0             0       15.28   \n",
       "2  631-41-3108      1    1             2       0             0       46.33   \n",
       "3  123-19-1176      1    1             1       0             0       58.22   \n",
       "4  373-73-7910      1    1             2       0             0       86.31   \n",
       "\n",
       "   quantity   tax_5%     total       date   time      payment    cogs  \\\n",
       "0         7  26.1415  548.9715 2019-01-05  13:08      ewallet  522.83   \n",
       "1         5   3.8200   80.2200 2019-03-08  10:29         cash   76.40   \n",
       "2         7  16.2155  340.5255 2019-03-03  13:23  credit_card  324.31   \n",
       "3         8  23.2880  489.0480 2019-01-27  20:33      ewallet  465.76   \n",
       "4         7  30.2085  634.3785 2019-02-08  10:37      ewallet  604.17   \n",
       "\n",
       "   gross_margin_percentage  gross_income  rating  year  month       day  \n",
       "0                 4.761905       26.1415     9.1  2019      1  Saturday  \n",
       "1                 4.761905        3.8200     9.6  2019      3    Friday  \n",
       "2                 4.761905       16.2155     7.4  2019      3    Sunday  \n",
       "3                 4.761905       23.2880     8.4  2019      1    Sunday  \n",
       "4                 4.761905       30.2085     5.3  2019      2    Friday  "
      ]
     },
     "execution_count": 28,
     "metadata": {},
     "output_type": "execute_result"
    }
   ],
   "source": [
    "df.loc[df['branch'] == 'a', 'branch'] = 1\n",
    "df.loc[df['branch'] == 'b', 'branch'] = 2\n",
    "df.loc[df['branch'] == 'c', 'branch'] = 3\n",
    "df.head()"
   ]
  },
  {
   "cell_type": "code",
   "execution_count": 29,
   "id": "9b69f598",
   "metadata": {
    "execution": {
     "iopub.execute_input": "2022-07-31T10:55:11.499529Z",
     "iopub.status.busy": "2022-07-31T10:55:11.498745Z",
     "iopub.status.idle": "2022-07-31T10:55:11.511640Z",
     "shell.execute_reply": "2022-07-31T10:55:11.510744Z"
    },
    "papermill": {
     "duration": 0.035489,
     "end_time": "2022-07-31T10:55:11.514140",
     "exception": false,
     "start_time": "2022-07-31T10:55:11.478651",
     "status": "completed"
    },
    "tags": []
   },
   "outputs": [],
   "source": [
    "df.loc[df['day'] == 'Sunday', 'day'] = 1\n",
    "df.loc[df['day'] == 'Monday', 'day'] = 2\n",
    "df.loc[df['day'] == 'Tuesday', 'day'] = 3\n",
    "df.loc[df['day'] == 'Wednesday', 'day'] = 4\n",
    "df.loc[df['day'] == 'Thursday', 'day'] = 5\n",
    "df.loc[df['day'] == 'Friday', 'day'] = 6\n",
    "df.loc[df['day'] == 'Saturday', 'day'] = 7\n"
   ]
  },
  {
   "cell_type": "code",
   "execution_count": 30,
   "id": "8b535fa2",
   "metadata": {
    "execution": {
     "iopub.execute_input": "2022-07-31T10:55:11.553017Z",
     "iopub.status.busy": "2022-07-31T10:55:11.552227Z",
     "iopub.status.idle": "2022-07-31T10:55:11.559001Z",
     "shell.execute_reply": "2022-07-31T10:55:11.558243Z"
    },
    "papermill": {
     "duration": 0.02875,
     "end_time": "2022-07-31T10:55:11.561245",
     "exception": false,
     "start_time": "2022-07-31T10:55:11.532495",
     "status": "completed"
    },
    "tags": []
   },
   "outputs": [],
   "source": [
    "others = df[[\"product_line\", \"quantity\", \"customer_type\", \"branch\", \"gross_income\", \"day\"]]\n",
    "# sns.pairplot(others)"
   ]
  },
  {
   "cell_type": "markdown",
   "id": "79d03961",
   "metadata": {
    "papermill": {
     "duration": 0.017921,
     "end_time": "2022-07-31T10:55:11.597562",
     "exception": false,
     "start_time": "2022-07-31T10:55:11.579641",
     "status": "completed"
    },
    "tags": []
   },
   "source": [
    "## We will predict the Gross Income of the company, individually and in a period"
   ]
  },
  {
   "cell_type": "code",
   "execution_count": 31,
   "id": "5ee229ee",
   "metadata": {
    "execution": {
     "iopub.execute_input": "2022-07-31T10:55:11.636451Z",
     "iopub.status.busy": "2022-07-31T10:55:11.635298Z",
     "iopub.status.idle": "2022-07-31T10:55:11.642265Z",
     "shell.execute_reply": "2022-07-31T10:55:11.641431Z"
    },
    "papermill": {
     "duration": 0.028797,
     "end_time": "2022-07-31T10:55:11.644591",
     "exception": false,
     "start_time": "2022-07-31T10:55:11.615794",
     "status": "completed"
    },
    "tags": []
   },
   "outputs": [],
   "source": [
    "df.drop(['invoice_id', 'tax_5%', 'time', 'payment', 'date'], axis = 1, inplace=True)"
   ]
  },
  {
   "cell_type": "code",
   "execution_count": 32,
   "id": "d43bb9ce",
   "metadata": {
    "execution": {
     "iopub.execute_input": "2022-07-31T10:55:11.683275Z",
     "iopub.status.busy": "2022-07-31T10:55:11.682518Z",
     "iopub.status.idle": "2022-07-31T10:55:11.846161Z",
     "shell.execute_reply": "2022-07-31T10:55:11.844941Z"
    },
    "papermill": {
     "duration": 0.185745,
     "end_time": "2022-07-31T10:55:11.848612",
     "exception": false,
     "start_time": "2022-07-31T10:55:11.662867",
     "status": "completed"
    },
    "tags": []
   },
   "outputs": [
    {
     "data": {
      "text/html": [
       "<div>\n",
       "<style scoped>\n",
       "    .dataframe tbody tr th:only-of-type {\n",
       "        vertical-align: middle;\n",
       "    }\n",
       "\n",
       "    .dataframe tbody tr th {\n",
       "        vertical-align: top;\n",
       "    }\n",
       "\n",
       "    .dataframe thead th {\n",
       "        text-align: right;\n",
       "    }\n",
       "</style>\n",
       "<table border=\"1\" class=\"dataframe\">\n",
       "  <thead>\n",
       "    <tr style=\"text-align: right;\">\n",
       "      <th></th>\n",
       "      <th>branch</th>\n",
       "      <th>city</th>\n",
       "      <th>customer_type</th>\n",
       "      <th>gender</th>\n",
       "      <th>product_line</th>\n",
       "      <th>unit_price</th>\n",
       "      <th>quantity</th>\n",
       "      <th>total</th>\n",
       "      <th>cogs</th>\n",
       "      <th>gross_margin_percentage</th>\n",
       "      <th>gross_income</th>\n",
       "      <th>rating</th>\n",
       "      <th>year</th>\n",
       "      <th>month</th>\n",
       "      <th>day</th>\n",
       "    </tr>\n",
       "  </thead>\n",
       "  <tbody>\n",
       "    <tr>\n",
       "      <th>0</th>\n",
       "      <td>1</td>\n",
       "      <td>1</td>\n",
       "      <td>1</td>\n",
       "      <td>0</td>\n",
       "      <td>0</td>\n",
       "      <td>74.69</td>\n",
       "      <td>7</td>\n",
       "      <td>548.9715</td>\n",
       "      <td>522.83</td>\n",
       "      <td>4.761905</td>\n",
       "      <td>26.1415</td>\n",
       "      <td>9.1</td>\n",
       "      <td>2019</td>\n",
       "      <td>1</td>\n",
       "      <td>7</td>\n",
       "    </tr>\n",
       "    <tr>\n",
       "      <th>1</th>\n",
       "      <td>3</td>\n",
       "      <td>2</td>\n",
       "      <td>2</td>\n",
       "      <td>0</td>\n",
       "      <td>0</td>\n",
       "      <td>15.28</td>\n",
       "      <td>5</td>\n",
       "      <td>80.2200</td>\n",
       "      <td>76.40</td>\n",
       "      <td>4.761905</td>\n",
       "      <td>3.8200</td>\n",
       "      <td>9.6</td>\n",
       "      <td>2019</td>\n",
       "      <td>3</td>\n",
       "      <td>6</td>\n",
       "    </tr>\n",
       "    <tr>\n",
       "      <th>2</th>\n",
       "      <td>1</td>\n",
       "      <td>1</td>\n",
       "      <td>2</td>\n",
       "      <td>0</td>\n",
       "      <td>0</td>\n",
       "      <td>46.33</td>\n",
       "      <td>7</td>\n",
       "      <td>340.5255</td>\n",
       "      <td>324.31</td>\n",
       "      <td>4.761905</td>\n",
       "      <td>16.2155</td>\n",
       "      <td>7.4</td>\n",
       "      <td>2019</td>\n",
       "      <td>3</td>\n",
       "      <td>1</td>\n",
       "    </tr>\n",
       "    <tr>\n",
       "      <th>3</th>\n",
       "      <td>1</td>\n",
       "      <td>1</td>\n",
       "      <td>1</td>\n",
       "      <td>0</td>\n",
       "      <td>0</td>\n",
       "      <td>58.22</td>\n",
       "      <td>8</td>\n",
       "      <td>489.0480</td>\n",
       "      <td>465.76</td>\n",
       "      <td>4.761905</td>\n",
       "      <td>23.2880</td>\n",
       "      <td>8.4</td>\n",
       "      <td>2019</td>\n",
       "      <td>1</td>\n",
       "      <td>1</td>\n",
       "    </tr>\n",
       "    <tr>\n",
       "      <th>4</th>\n",
       "      <td>1</td>\n",
       "      <td>1</td>\n",
       "      <td>2</td>\n",
       "      <td>0</td>\n",
       "      <td>0</td>\n",
       "      <td>86.31</td>\n",
       "      <td>7</td>\n",
       "      <td>634.3785</td>\n",
       "      <td>604.17</td>\n",
       "      <td>4.761905</td>\n",
       "      <td>30.2085</td>\n",
       "      <td>5.3</td>\n",
       "      <td>2019</td>\n",
       "      <td>2</td>\n",
       "      <td>6</td>\n",
       "    </tr>\n",
       "    <tr>\n",
       "      <th>...</th>\n",
       "      <td>...</td>\n",
       "      <td>...</td>\n",
       "      <td>...</td>\n",
       "      <td>...</td>\n",
       "      <td>...</td>\n",
       "      <td>...</td>\n",
       "      <td>...</td>\n",
       "      <td>...</td>\n",
       "      <td>...</td>\n",
       "      <td>...</td>\n",
       "      <td>...</td>\n",
       "      <td>...</td>\n",
       "      <td>...</td>\n",
       "      <td>...</td>\n",
       "      <td>...</td>\n",
       "    </tr>\n",
       "    <tr>\n",
       "      <th>995</th>\n",
       "      <td>3</td>\n",
       "      <td>2</td>\n",
       "      <td>2</td>\n",
       "      <td>0</td>\n",
       "      <td>0</td>\n",
       "      <td>40.35</td>\n",
       "      <td>1</td>\n",
       "      <td>42.3675</td>\n",
       "      <td>40.35</td>\n",
       "      <td>4.761905</td>\n",
       "      <td>2.0175</td>\n",
       "      <td>6.2</td>\n",
       "      <td>2019</td>\n",
       "      <td>1</td>\n",
       "      <td>3</td>\n",
       "    </tr>\n",
       "    <tr>\n",
       "      <th>996</th>\n",
       "      <td>2</td>\n",
       "      <td>3</td>\n",
       "      <td>2</td>\n",
       "      <td>0</td>\n",
       "      <td>0</td>\n",
       "      <td>97.38</td>\n",
       "      <td>10</td>\n",
       "      <td>1022.4900</td>\n",
       "      <td>973.80</td>\n",
       "      <td>4.761905</td>\n",
       "      <td>48.6900</td>\n",
       "      <td>4.4</td>\n",
       "      <td>2019</td>\n",
       "      <td>3</td>\n",
       "      <td>7</td>\n",
       "    </tr>\n",
       "    <tr>\n",
       "      <th>997</th>\n",
       "      <td>1</td>\n",
       "      <td>1</td>\n",
       "      <td>1</td>\n",
       "      <td>0</td>\n",
       "      <td>0</td>\n",
       "      <td>31.84</td>\n",
       "      <td>1</td>\n",
       "      <td>33.4320</td>\n",
       "      <td>31.84</td>\n",
       "      <td>4.761905</td>\n",
       "      <td>1.5920</td>\n",
       "      <td>7.7</td>\n",
       "      <td>2019</td>\n",
       "      <td>2</td>\n",
       "      <td>7</td>\n",
       "    </tr>\n",
       "    <tr>\n",
       "      <th>998</th>\n",
       "      <td>1</td>\n",
       "      <td>1</td>\n",
       "      <td>2</td>\n",
       "      <td>0</td>\n",
       "      <td>0</td>\n",
       "      <td>65.82</td>\n",
       "      <td>1</td>\n",
       "      <td>69.1110</td>\n",
       "      <td>65.82</td>\n",
       "      <td>4.761905</td>\n",
       "      <td>3.2910</td>\n",
       "      <td>4.1</td>\n",
       "      <td>2019</td>\n",
       "      <td>2</td>\n",
       "      <td>6</td>\n",
       "    </tr>\n",
       "    <tr>\n",
       "      <th>999</th>\n",
       "      <td>1</td>\n",
       "      <td>1</td>\n",
       "      <td>1</td>\n",
       "      <td>0</td>\n",
       "      <td>0</td>\n",
       "      <td>88.34</td>\n",
       "      <td>7</td>\n",
       "      <td>649.2990</td>\n",
       "      <td>618.38</td>\n",
       "      <td>4.761905</td>\n",
       "      <td>30.9190</td>\n",
       "      <td>6.6</td>\n",
       "      <td>2019</td>\n",
       "      <td>2</td>\n",
       "      <td>2</td>\n",
       "    </tr>\n",
       "  </tbody>\n",
       "</table>\n",
       "<p>1000 rows × 15 columns</p>\n",
       "</div>"
      ],
      "text/plain": [
       "    branch city customer_type  gender  product_line  unit_price  quantity  \\\n",
       "0        1    1             1       0             0       74.69         7   \n",
       "1        3    2             2       0             0       15.28         5   \n",
       "2        1    1             2       0             0       46.33         7   \n",
       "3        1    1             1       0             0       58.22         8   \n",
       "4        1    1             2       0             0       86.31         7   \n",
       "..     ...  ...           ...     ...           ...         ...       ...   \n",
       "995      3    2             2       0             0       40.35         1   \n",
       "996      2    3             2       0             0       97.38        10   \n",
       "997      1    1             1       0             0       31.84         1   \n",
       "998      1    1             2       0             0       65.82         1   \n",
       "999      1    1             1       0             0       88.34         7   \n",
       "\n",
       "         total    cogs  gross_margin_percentage  gross_income  rating  year  \\\n",
       "0     548.9715  522.83                 4.761905       26.1415     9.1  2019   \n",
       "1      80.2200   76.40                 4.761905        3.8200     9.6  2019   \n",
       "2     340.5255  324.31                 4.761905       16.2155     7.4  2019   \n",
       "3     489.0480  465.76                 4.761905       23.2880     8.4  2019   \n",
       "4     634.3785  604.17                 4.761905       30.2085     5.3  2019   \n",
       "..         ...     ...                      ...           ...     ...   ...   \n",
       "995    42.3675   40.35                 4.761905        2.0175     6.2  2019   \n",
       "996  1022.4900  973.80                 4.761905       48.6900     4.4  2019   \n",
       "997    33.4320   31.84                 4.761905        1.5920     7.7  2019   \n",
       "998    69.1110   65.82                 4.761905        3.2910     4.1  2019   \n",
       "999   649.2990  618.38                 4.761905       30.9190     6.6  2019   \n",
       "\n",
       "     month day  \n",
       "0        1   7  \n",
       "1        3   6  \n",
       "2        3   1  \n",
       "3        1   1  \n",
       "4        2   6  \n",
       "..     ...  ..  \n",
       "995      1   3  \n",
       "996      3   7  \n",
       "997      2   7  \n",
       "998      2   6  \n",
       "999      2   2  \n",
       "\n",
       "[1000 rows x 15 columns]"
      ]
     },
     "execution_count": 32,
     "metadata": {},
     "output_type": "execute_result"
    }
   ],
   "source": [
    "df"
   ]
  },
  {
   "cell_type": "markdown",
   "id": "fe57cc4f",
   "metadata": {
    "papermill": {
     "duration": 0.018654,
     "end_time": "2022-07-31T10:55:11.886168",
     "exception": false,
     "start_time": "2022-07-31T10:55:11.867514",
     "status": "completed"
    },
    "tags": []
   },
   "source": [
    "#### Selecting features and splitting data"
   ]
  },
  {
   "cell_type": "code",
   "execution_count": 33,
   "id": "8bdf2fbc",
   "metadata": {
    "execution": {
     "iopub.execute_input": "2022-07-31T10:55:11.926592Z",
     "iopub.status.busy": "2022-07-31T10:55:11.925900Z",
     "iopub.status.idle": "2022-07-31T10:55:12.231106Z",
     "shell.execute_reply": "2022-07-31T10:55:12.229375Z"
    },
    "papermill": {
     "duration": 0.328913,
     "end_time": "2022-07-31T10:55:12.234591",
     "exception": false,
     "start_time": "2022-07-31T10:55:11.905678",
     "status": "completed"
    },
    "tags": []
   },
   "outputs": [
    {
     "name": "stdout",
     "output_type": "stream",
     "text": [
      "Total number of feature dataset: 1000\n",
      "Total number of training data: 750\n",
      "Shape of train data: (750, 9)\n",
      "Shape of test data: (250, 9)\n"
     ]
    }
   ],
   "source": [
    "from sklearn.linear_model import LinearRegression\n",
    "from sklearn.model_selection import train_test_split\n",
    "\n",
    "#Defining features\n",
    "X = df[['branch', 'city', 'customer_type', 'gender', 'product_line', 'quantity', 'cogs', 'gross_margin_percentage',\n",
    "    'month']]\n",
    "y = df['gross_income']\n",
    "\n",
    "#Splitting data\n",
    "X_train, X_test, y_train, y_test = train_test_split(X, y, random_state = 1)\n",
    "\n",
    "print(f'Total number of feature dataset: {len(X)}')\n",
    "print(f'Total number of training data: {len(X_train)}')\n",
    "print(f'Shape of train data: {X_train.shape}')\n",
    "print(f'Shape of test data: {X_test.shape}')"
   ]
  },
  {
   "cell_type": "markdown",
   "id": "176d9eff",
   "metadata": {
    "papermill": {
     "duration": 0.018421,
     "end_time": "2022-07-31T10:55:12.272416",
     "exception": false,
     "start_time": "2022-07-31T10:55:12.253995",
     "status": "completed"
    },
    "tags": []
   },
   "source": [
    "#### Selecting, Fitting,  Training Model"
   ]
  },
  {
   "cell_type": "code",
   "execution_count": 34,
   "id": "ef135be5",
   "metadata": {
    "execution": {
     "iopub.execute_input": "2022-07-31T10:55:12.311694Z",
     "iopub.status.busy": "2022-07-31T10:55:12.311283Z",
     "iopub.status.idle": "2022-07-31T10:55:12.336691Z",
     "shell.execute_reply": "2022-07-31T10:55:12.335748Z"
    },
    "papermill": {
     "duration": 0.048213,
     "end_time": "2022-07-31T10:55:12.339359",
     "exception": false,
     "start_time": "2022-07-31T10:55:12.291146",
     "status": "completed"
    },
    "tags": []
   },
   "outputs": [
    {
     "data": {
      "text/plain": [
       "LinearRegression()"
      ]
     },
     "execution_count": 34,
     "metadata": {},
     "output_type": "execute_result"
    }
   ],
   "source": [
    "#Selecting Model\n",
    "model = LinearRegression()\n",
    "\n",
    "#Fitting Model\n",
    "model.fit(X_train, y_train)"
   ]
  },
  {
   "cell_type": "markdown",
   "id": "a56810c2",
   "metadata": {
    "papermill": {
     "duration": 0.018577,
     "end_time": "2022-07-31T10:55:12.377069",
     "exception": false,
     "start_time": "2022-07-31T10:55:12.358492",
     "status": "completed"
    },
    "tags": []
   },
   "source": [
    "### Making Predictions"
   ]
  },
  {
   "cell_type": "code",
   "execution_count": 35,
   "id": "57fb0188",
   "metadata": {
    "execution": {
     "iopub.execute_input": "2022-07-31T10:55:12.417047Z",
     "iopub.status.busy": "2022-07-31T10:55:12.416314Z",
     "iopub.status.idle": "2022-07-31T10:55:12.429578Z",
     "shell.execute_reply": "2022-07-31T10:55:12.428691Z"
    },
    "papermill": {
     "duration": 0.035377,
     "end_time": "2022-07-31T10:55:12.431544",
     "exception": false,
     "start_time": "2022-07-31T10:55:12.396167",
     "status": "completed"
    },
    "tags": []
   },
   "outputs": [
    {
     "data": {
      "text/plain": [
       "array([25.215 , 19.232 , 15.9025,  7.18  ,  9.32  ,  2.531 ,  7.66  ,\n",
       "        4.3   , 10.3845, 41.315 , 13.83  , 34.3   ,  2.37  , 35.0685,\n",
       "       12.9185, 26.235 , 10.6225, 20.652 ,  4.154 ,  6.322 ,  9.885 ,\n",
       "       21.565 ,  9.2125,  6.94  , 33.439 ,  5.344 , 15.291 ,  1.6815,\n",
       "        3.655 , 16.7725,  4.3725,  6.807 , 12.668 ,  9.989 , 34.2265,\n",
       "       29.913 , 39.155 , 40.7835,  3.0125, 33.725 , 10.715 , 19.264 ,\n",
       "        9.476 , 35.3475,  4.4875,  6.354 ,  4.897 ,  5.611 ,  1.25  ,\n",
       "        2.0175,  6.2325, 19.884 ,  7.863 ,  3.406 , 28.744 ,  7.39  ,\n",
       "       15.953 , 14.694 , 20.545 ,  4.91  , 35.516 ,  3.305 , 19.375 ,\n",
       "        2.686 ,  0.5085, 16.2425, 12.835 , 15.904 , 27.18  , 21.783 ,\n",
       "        3.855 ,  9.191 ,  5.977 ,  3.333 , 39.695 ,  7.935 ,  7.352 ,\n",
       "       27.935 ,  4.935 ,  4.4075,  6.524 ,  7.163 , 14.296 , 28.956 ,\n",
       "        3.285 ,  5.803 ,  1.131 ,  1.487 ,  7.239 ,  5.986 , 12.036 ,\n",
       "       13.962 ,  9.8475, 22.7205, 20.372 ,  9.34  , 10.863 , 11.28  ,\n",
       "        6.45  , 32.388 ,  7.1125, 21.595 , 11.226 ,  3.6085, 16.8175,\n",
       "       21.028 , 37.3   , 14.61  ,  4.3525,  3.528 ,  1.93  , 26.103 ,\n",
       "        5.9865,  9.183 ,  3.6465, 15.228 , 15.106 ,  1.956 , 39.824 ,\n",
       "        4.661 , 22.491 ,  6.933 , 23.288 ,  8.1775, 10.197 ,  2.148 ,\n",
       "       21.6725, 32.615 ,  7.888 , 24.315 , 24.4395, 15.544 ,  2.7725,\n",
       "       16.2155,  1.592 ,  4.3135, 22.8585,  5.662 ,  4.125 ,  3.429 ,\n",
       "       22.773 ,  2.568 , 13.8135,  5.8345, 14.7315,  4.785 , 18.998 ,\n",
       "        2.1425,  5.622 , 26.208 ,  1.512 , 42.315 ,  3.626 , 15.536 ,\n",
       "        4.434 , 12.06  , 25.1195, 16.743 , 12.2275, 27.21  , 28.017 ,\n",
       "       10.3635, 32.7915,  7.288 , 36.735 , 29.028 , 37.548 , 20.997 ,\n",
       "       12.245 ,  3.7145, 21.4935, 14.502 , 18.49  ,  0.639 , 12.854 ,\n",
       "       11.498 , 37.796 , 13.715 ,  4.768 , 12.1515,  6.1925, 31.99  ,\n",
       "       17.604 , 11.0115, 34.672 , 39.065 ,  5.745 ,  0.627 , 10.765 ,\n",
       "       34.986 , 48.75  , 32.4495, 14.764 ,  9.459 ,  8.613 ,  6.908 ,\n",
       "        4.658 ,  8.5905,  1.5305, 14.265 , 24.9225,  3.0475, 43.866 ,\n",
       "        9.0045, 24.951 , 10.1325,  4.03  , 23.094 ,  7.2135, 12.57  ,\n",
       "        8.377 , 14.0805,  2.619 , 45.325 , 10.3065,  5.984 , 17.828 ,\n",
       "        7.8785, 32.858 ,  3.711 ,  8.191 , 23.1225,  1.9505, 16.1055,\n",
       "       14.52  , 36.065 , 18.639 ,  2.6325, 41.17  ,  9.318 , 24.81  ,\n",
       "       20.9475,  4.565 , 16.11  , 36.2115, 44.919 , 14.978 ,  1.974 ,\n",
       "       15.388 , 11.7375,  4.0465, 29.071 , 10.3185, 12.37  , 24.186 ,\n",
       "        3.791 , 20.915 , 16.344 , 13.533 , 29.583 ])"
      ]
     },
     "execution_count": 35,
     "metadata": {},
     "output_type": "execute_result"
    }
   ],
   "source": [
    "predictions = model.predict(X_test)\n",
    "predictions"
   ]
  },
  {
   "cell_type": "markdown",
   "id": "ac80b8e5",
   "metadata": {
    "papermill": {
     "duration": 0.01877,
     "end_time": "2022-07-31T10:55:12.469389",
     "exception": false,
     "start_time": "2022-07-31T10:55:12.450619",
     "status": "completed"
    },
    "tags": []
   },
   "source": [
    "## Model Evaluation"
   ]
  },
  {
   "cell_type": "code",
   "execution_count": 36,
   "id": "e3d0b849",
   "metadata": {
    "execution": {
     "iopub.execute_input": "2022-07-31T10:55:12.511868Z",
     "iopub.status.busy": "2022-07-31T10:55:12.510866Z",
     "iopub.status.idle": "2022-07-31T10:55:12.521057Z",
     "shell.execute_reply": "2022-07-31T10:55:12.519153Z"
    },
    "papermill": {
     "duration": 0.035686,
     "end_time": "2022-07-31T10:55:12.524122",
     "exception": false,
     "start_time": "2022-07-31T10:55:12.488436",
     "status": "completed"
    },
    "tags": []
   },
   "outputs": [
    {
     "name": "stdout",
     "output_type": "stream",
     "text": [
      "Mean Squared Error: 1.4582473472321041e-28\n"
     ]
    }
   ],
   "source": [
    "from sklearn.metrics import mean_squared_error\n",
    "print(\"Mean Squared Error:\",mean_squared_error(y_test, predictions))"
   ]
  },
  {
   "cell_type": "markdown",
   "id": "b0febab6",
   "metadata": {
    "papermill": {
     "duration": 0.018932,
     "end_time": "2022-07-31T10:55:12.563298",
     "exception": false,
     "start_time": "2022-07-31T10:55:12.544366",
     "status": "completed"
    },
    "tags": []
   },
   "source": [
    "### Mean square error"
   ]
  },
  {
   "cell_type": "code",
   "execution_count": 37,
   "id": "a8fe9fe4",
   "metadata": {
    "execution": {
     "iopub.execute_input": "2022-07-31T10:55:12.604104Z",
     "iopub.status.busy": "2022-07-31T10:55:12.603190Z",
     "iopub.status.idle": "2022-07-31T10:55:12.611526Z",
     "shell.execute_reply": "2022-07-31T10:55:12.610292Z"
    },
    "papermill": {
     "duration": 0.031281,
     "end_time": "2022-07-31T10:55:12.613948",
     "exception": false,
     "start_time": "2022-07-31T10:55:12.582667",
     "status": "completed"
    },
    "tags": []
   },
   "outputs": [
    {
     "name": "stdout",
     "output_type": "stream",
     "text": [
      "Root Mean Squared Error: 1.2075791266960952e-14\n"
     ]
    }
   ],
   "source": [
    "print(\"Root Mean Squared Error:\",np.sqrt(mean_squared_error(y_test, predictions)))"
   ]
  },
  {
   "cell_type": "markdown",
   "id": "784a5bc8",
   "metadata": {
    "papermill": {
     "duration": 0.018894,
     "end_time": "2022-07-31T10:55:12.652463",
     "exception": false,
     "start_time": "2022-07-31T10:55:12.633569",
     "status": "completed"
    },
    "tags": []
   },
   "source": [
    "Mean Absolute percentage Error"
   ]
  },
  {
   "cell_type": "code",
   "execution_count": 38,
   "id": "18d34802",
   "metadata": {
    "execution": {
     "iopub.execute_input": "2022-07-31T10:55:12.692682Z",
     "iopub.status.busy": "2022-07-31T10:55:12.692299Z",
     "iopub.status.idle": "2022-07-31T10:55:12.699442Z",
     "shell.execute_reply": "2022-07-31T10:55:12.698257Z"
    },
    "papermill": {
     "duration": 0.030286,
     "end_time": "2022-07-31T10:55:12.701880",
     "exception": false,
     "start_time": "2022-07-31T10:55:12.671594",
     "status": "completed"
    },
    "tags": []
   },
   "outputs": [
    {
     "name": "stdout",
     "output_type": "stream",
     "text": [
      "Mean Absolute Percentage Error: 1.6959730789501848e-13\n"
     ]
    }
   ],
   "source": [
    "import sklearn.metrics as m\n",
    "print(\"Mean Absolute Percentage Error:\",np.mean(np.abs( (y_test-predictions) / y_test))*100)"
   ]
  }
 ],
 "metadata": {
  "kernelspec": {
   "display_name": "Python 3",
   "language": "python",
   "name": "python3"
  },
  "language_info": {
   "codemirror_mode": {
    "name": "ipython",
    "version": 3
   },
   "file_extension": ".py",
   "mimetype": "text/x-python",
   "name": "python",
   "nbconvert_exporter": "python",
   "pygments_lexer": "ipython3",
   "version": "3.7.12"
  },
  "papermill": {
   "default_parameters": {},
   "duration": 18.449321,
   "end_time": "2022-07-31T10:55:13.542713",
   "environment_variables": {},
   "exception": null,
   "input_path": "__notebook__.ipynb",
   "output_path": "__notebook__.ipynb",
   "parameters": {},
   "start_time": "2022-07-31T10:54:55.093392",
   "version": "2.3.4"
  }
 },
 "nbformat": 4,
 "nbformat_minor": 5
}
